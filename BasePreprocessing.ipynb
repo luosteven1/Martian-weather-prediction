{
 "cells": [
  {
   "cell_type": "code",
   "execution_count": 6,
   "metadata": {},
   "outputs": [],
   "source": [
    "import pandas as pd\n",
    "import csv\n",
    "import os"
   ]
  },
  {
   "cell_type": "code",
   "execution_count": 7,
   "metadata": {},
   "outputs": [],
   "source": [
    "# Helper lists\n",
    "data_levels = ['l3atm', 'l3emiss']\n",
    "years = ['2021', '2022']\n",
    "months = ['january', 'february', 'march', 'april', 'may', 'june', 'july', 'august',\n",
    "          'september', 'october', 'november', 'december']\n",
    "\n",
    "\n",
    "# Merging CSV extract based on EMM EMIRS data product level description and\n",
    "# Convert merge into xlsx and csv\n",
    "def merge_csv_by_level(folder_path):\n",
    "    for level in data_levels:\n",
    "        directory_list = os.listdir(folder_path)\n",
    "        level_dataframe_to_concat = []\n",
    "        for csv_file in directory_list:\n",
    "            if str(csv_file).endswith('.csv'):\n",
    "                if csv_file.startswith('emm_emr_' + level):\n",
    "                    df = pd.read_csv(folder_path + '/' + csv_file, low_memory=False)\n",
    "                    level_dataframe_to_concat.append(df)\n",
    "            else:\n",
    "                print(csv_file + '- is not a csv file')\n",
    "        if len(level_dataframe_to_concat) > 0:\n",
    "            merge_dataframe = pd.concat(level_dataframe_to_concat, axis=0).reset_index(drop=True)\n",
    "            merge_dataframe.to_csv(folder_path + \"/\" + \"emm_emr_\" + level + \".csv\")"
   ]
  },
  {
   "cell_type": "code",
   "execution_count": 8,
   "metadata": {},
   "outputs": [
    {
     "name": "stdout",
     "output_type": "stream",
     "text": [
      "match\n",
      "match\n",
      "match\n",
      "match\n"
     ]
    }
   ],
   "source": [
    "#Merge CSV of both years together into one based on the data level\n",
    "\n",
    "data_levels = ['l3emiss', 'l3atm']\n",
    "for level in data_levels:\n",
    "    level_dataframe_to_concat = []\n",
    "    for year in years:\n",
    "        folder_path = r\"new_dataset/\"+ year\n",
    "        directory_list = os.listdir(folder_path)\n",
    "        for csv_file in directory_list:\n",
    "            file_name = os.path.basename(csv_file)\n",
    "            expected_name = \"emm_emr_\" + level + \".csv\"\n",
    "            if file_name == expected_name:\n",
    "                print('match')\n",
    "                df = pd.read_csv(folder_path + \"/\" + csv_file, low_memory=False)\n",
    "                level_dataframe_to_concat.append(df)\n",
    "    if len(level_dataframe_to_concat) > 0:\n",
    "        merged_dataframe = pd.concat(level_dataframe_to_concat, axis=0).reset_index(drop=True)\n",
    "        merged_dataframe.to_csv(r\"new_dataset/emm_emr_\" + level + \".csv\")"
   ]
  },
  {
   "cell_type": "code",
   "execution_count": null,
   "metadata": {},
   "outputs": [],
   "source": []
  }
 ],
 "metadata": {
  "kernelspec": {
   "display_name": "Python 3 (ipykernel)",
   "language": "python",
   "name": "python3"
  },
  "language_info": {
   "codemirror_mode": {
    "name": "ipython",
    "version": 3
   },
   "file_extension": ".py",
   "mimetype": "text/x-python",
   "name": "python",
   "nbconvert_exporter": "python",
   "pygments_lexer": "ipython3",
   "version": "3.12.5"
  }
 },
 "nbformat": 4,
 "nbformat_minor": 4
}
